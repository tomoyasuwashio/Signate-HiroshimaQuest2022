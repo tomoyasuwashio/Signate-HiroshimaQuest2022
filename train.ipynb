{
 "cells": [
  {
   "attachments": {},
   "cell_type": "markdown",
   "metadata": {},
   "source": [
    "モジュールのインポート"
   ]
  },
  {
   "cell_type": "code",
   "execution_count": 1,
   "metadata": {},
   "outputs": [],
   "source": [
    "import pandas as pd\n",
    "import numpy as np\n",
    "import seaborn as sns\n",
    "import json\n",
    "import joblib\n",
    "import matplotlib.pyplot as plt\n",
    "import optuna\n",
    "from sklearn.metrics import mean_squared_error\n",
    "from sklearn.model_selection import train_test_split\n",
    "# from sklearn.ensemble import RandomForestRegressor\n",
    "# from xgboost import XGBRegressor\n",
    "import optuna.integration.lightgbm as lgb\n",
    "# import lightgbm as lgb\n",
    "from lightgbm import LGBMRegressor"
   ]
  },
  {
   "attachments": {},
   "cell_type": "markdown",
   "metadata": {},
   "source": [
    "データのロード"
   ]
  },
  {
   "cell_type": "code",
   "execution_count": 2,
   "metadata": {},
   "outputs": [],
   "source": [
    "water_data = pd.read_csv('./train/waterlevel/data.csv')\n",
    "water_stations = pd.read_csv('./train/waterlevel/stations.csv')\n",
    "rainfall_data = pd.read_csv('./train/rainfall/data.csv')\n",
    "rainfall_stations = pd.read_csv('./train/rainfall/data.csv')\n",
    "# 時系列モデルでない場合，潮位データは使いづらい\n",
    "# tide_data = pd.read_csv('./train/rainfall/data.csv')\n",
    "# tide_stations = pd.read_csv('./train/rainfall/data.csv')"
   ]
  },
  {
   "cell_type": "code",
   "execution_count": 3,
   "metadata": {},
   "outputs": [],
   "source": [
    "# 学習に使用する期間を限定\n",
    "# 1500日目以前には日付の欠損があったり，水位の基準値が変わる地点があるため，\n",
    "# 学習期間に入れるときは注意が必要\n",
    "start_date = 1500\n",
    "end_date = 2190\n",
    "water_data_new = water_data.query('date >= @start_date and date <= @end_date')\n",
    "rainfall_data_new = rainfall_data.query('date >= @start_date and date <= @end_date')\n",
    "# tide_data_new = tide_data.query('date >= @start_date and date <= @end_date')"
   ]
  },
  {
   "attachments": {},
   "cell_type": "markdown",
   "metadata": {},
   "source": [
    "水位の前処理"
   ]
  },
  {
   "cell_type": "code",
   "execution_count": 4,
   "metadata": {},
   "outputs": [],
   "source": [
    "# 評価対象の station をリスト化する\n",
    "water_stations_eval = water_stations.query('評価対象 == 1').reset_index(drop=True)\n",
    "water_stations_eval_list = np.array(water_stations_eval['観測所名称'])\n",
    "\n",
    "# 評価対象になっている station のみを学習対象とする\n",
    "water_data_new = water_data_new[water_data_new['station'].isin(water_stations_eval_list)]\n",
    "\n",
    "# 水位の station をエンコーディングするための辞書をつくる\n",
    "WATER_STATION_DICT = dict()\n",
    "for i, v, in enumerate(water_stations_eval_list):\n",
    "    WATER_STATION_DICT[v] = i\n",
    "WATER_STATION_DICT_REVERSE = {v: k for k, v in WATER_STATION_DICT.items()}"
   ]
  },
  {
   "cell_type": "code",
   "execution_count": 5,
   "metadata": {},
   "outputs": [],
   "source": [
    "# 河川名のラベルエンコーディング\n",
    "# 河川名とそれに対応するインデックス (整数) の辞書を作る\n",
    "river_name_list = water_stations_eval['河川名'].unique()\n",
    "river_name_dict = dict()\n",
    "for i, item in enumerate(river_name_list):\n",
    "    river_name_dict[item] = i\n",
    "\n",
    "# 観測所と河川のインデックスを対応づけた辞書を作る\n",
    "RIVER_DICT = dict()\n",
    "for row in water_stations_eval.itertuples():\n",
    "    RIVER_DICT[row.観測所名称] = river_name_dict[row.河川名]\n",
    "\n",
    "# 水系名のラベルエンコーディング\n",
    "# 水系名とそれに対応するインデックス (整数) の辞書を作る\n",
    "system_name_list = water_stations_eval['水系名'].unique()\n",
    "system_name_dict = dict()\n",
    "for i, item in enumerate(system_name_list):\n",
    "    system_name_dict[item] = i\n",
    "\n",
    "# 観測所と水系のインデックスを対応づけた辞書を作る\n",
    "SYSTEM_DICT = dict()\n",
    "for row in water_stations_eval.itertuples():\n",
    "    SYSTEM_DICT[row.観測所名称] = system_name_dict[row.水系名]\n",
    "\n",
    "# 観測所ごとの緯度，経度\n",
    "LOC_DICT = dict()\n",
    "for row in water_stations_eval.itertuples():\n",
    "    LOC_DICT[row.観測所名称] = (row.緯度, row.経度)\n",
    "\n",
    "# 辞書の保存\n",
    "# 毎回保存する必要はない\n",
    "# with open('./RF_submission/src/water_station_dict.json', mode='w') as f:\n",
    "#     json.dump(WATER_STATION_DICT, f)\n",
    "# with open('./RF_submission/src/river_dict.json', mode='w') as f:\n",
    "#     json.dump(RIVER_DICT, f)\n",
    "# with open('./RF_submission/src/system_dict.json', mode='w') as f:\n",
    "#     json.dump(SYSTEM_DICT, f)\n",
    "# with open('./RF_submission/src/loc_dict.json', mode='w') as f:\n",
    "#     json.dump(LOC_DICT, f)"
   ]
  },
  {
   "cell_type": "code",
   "execution_count": 6,
   "metadata": {},
   "outputs": [],
   "source": [
    "# 欠損している日付を埋める\n",
    "# 欠損している日付はメモしていおいて後で学習から外すことも可能\n",
    "# groups = water_data_new.groupby('station')\n",
    "# data = []\n",
    "# set1 = set(range(start_date, end_date+1))\n",
    "# for name, group in groups:\n",
    "#     sample = group.iloc[0, :]\n",
    "#     set2 = set( group['date'].unique())\n",
    "#     subset  = set1.difference(set2)\n",
    "#     for date in subset:\n",
    "#         tmp = [float('nan') for i in range(27)]\n",
    "#         tmp[0] = date\n",
    "#         tmp[1] = sample.station\n",
    "#         tmp[2] = sample.river\n",
    "#         data.append(tmp)\n",
    "# df_lack = pd.DataFrame(data, columns=water_data_new.columns.values)\n",
    "# water_data_new = pd.concat([water_data_new, df_lack])"
   ]
  },
  {
   "cell_type": "code",
   "execution_count": 7,
   "metadata": {},
   "outputs": [],
   "source": [
    "# 時間と値を縦に並べた新しい DataFrame をつくる\n",
    "data = []\n",
    "for row in water_data_new.itertuples(index=False):\n",
    "    for i in range(24):\n",
    "        v = row[3+i]\n",
    "        tmp = (row.date, row.station, row.river, i, v)\n",
    "        data.append(tmp)\n",
    "water_data_reshaped = pd.DataFrame(data, columns=['date', 'station', 'river', 'hour', 'value'])"
   ]
  },
  {
   "cell_type": "code",
   "execution_count": 8,
   "metadata": {},
   "outputs": [],
   "source": [
    "# 特徴量の追加\n",
    "# 観測所名，河川名，水系名，緯度，経度\n",
    "groups = water_data_reshaped.groupby('station')\n",
    "df_new = pd.DataFrame()\n",
    "for name, group in groups:\n",
    "    df_tmp = group.copy()\n",
    "    df_tmp['station_id'] = WATER_STATION_DICT[name]\n",
    "    df_tmp['river_id'] = RIVER_DICT[name]\n",
    "    df_tmp['system_id']  = SYSTEM_DICT[name]\n",
    "    df_tmp['latitude'] = LOC_DICT[name][0]\n",
    "    df_tmp['longitude'] = LOC_DICT[name][1]\n",
    "    df_new = pd.concat([df_new, df_tmp])\n",
    "water_data_reshaped = df_new"
   ]
  },
  {
   "cell_type": "code",
   "execution_count": 9,
   "metadata": {},
   "outputs": [],
   "source": [
    "# 水位の欠損値をすべて float 型に変換\n",
    "water_data_reshaped['value'] = pd.to_numeric(water_data_reshaped['value'], errors='coerce')\n",
    "\n",
    "# 欠損値を時系列順 に埋める\n",
    "# station, date, hour の順にソート\n",
    "water_data_reshaped.sort_values(['station_id', 'date', 'hour'], inplace=True)\n",
    "groups = water_data_reshaped.groupby('station_id')\n",
    "df_new = pd.DataFrame()\n",
    "for _, group in groups:\n",
    "    df_tmp = group.copy()\n",
    "    # 時間に対して後ろ向きに埋めた後、前向きに埋める\n",
    "    df_tmp['value'].fillna(method='bfill', inplace=True)\n",
    "    df_tmp['value'].fillna(method='ffill', inplace=True)\n",
    "    df_new = pd.concat([df_new, df_tmp])\n",
    "water_data_reshaped = df_new"
   ]
  },
  {
   "cell_type": "code",
   "execution_count": 10,
   "metadata": {},
   "outputs": [],
   "source": [
    "# 水位の変化のパターンをグラフで見る\n",
    "# id = WATER_STATION_DICT['大須']\n",
    "# tmp = water_data_reshaped[water_data_reshaped['date'] > end_date - 100].sort_values(['station_id', 'date', 'hour']).reset_index()\n",
    "# tmp2 = tmp[tmp['station_id'] == id]\n",
    "# tmp2['value'].plot()"
   ]
  },
  {
   "cell_type": "code",
   "execution_count": 11,
   "metadata": {},
   "outputs": [],
   "source": [
    "# 河口で潮位の影響を受ける観測所をリストアップ\n",
    "periodic_list = [6, 37, 113, 114, 129, 130, 131]"
   ]
  },
  {
   "attachments": {},
   "cell_type": "markdown",
   "metadata": {},
   "source": [
    "雨量の前処理"
   ]
  },
  {
   "cell_type": "code",
   "execution_count": 12,
   "metadata": {},
   "outputs": [],
   "source": [
    "# 時間と値を縦に並べた新しい DataFrame をつくる\n",
    "data = []\n",
    "for row in rainfall_data_new.itertuples(index=False):\n",
    "    for i in range(24):\n",
    "        v = row[3+i]\n",
    "        tmp = (row.date, row.station, row.city, i, v)\n",
    "        data.append(tmp)\n",
    "rainfall_data_reshaped = pd.DataFrame(data, columns=['date', 'station', 'city', 'hour', 'value'])"
   ]
  },
  {
   "cell_type": "code",
   "execution_count": 13,
   "metadata": {},
   "outputs": [],
   "source": [
    "# 水位の欠損値をすべて float 型に変換\n",
    "rainfall_data_reshaped['value'] = pd.to_numeric(rainfall_data_reshaped['value'], errors='coerce')"
   ]
  },
  {
   "cell_type": "code",
   "execution_count": 14,
   "metadata": {},
   "outputs": [],
   "source": [
    "# その日広島県で降った雨の合計\n",
    "rainfall_sum = rainfall_data_reshaped.groupby('date').sum()['value'].reset_index()"
   ]
  },
  {
   "attachments": {},
   "cell_type": "markdown",
   "metadata": {},
   "source": [
    "データセットの作成"
   ]
  },
  {
   "cell_type": "code",
   "execution_count": 15,
   "metadata": {},
   "outputs": [],
   "source": [
    "# 水位データを基にデータセットを作る\n",
    "dataset = water_data_reshaped.copy()"
   ]
  },
  {
   "cell_type": "code",
   "execution_count": 16,
   "metadata": {},
   "outputs": [],
   "source": [
    "# 前日の23時の水位と前日を特徴量として追加\n",
    "# 日付が欠損していないのを前提としている\n",
    "# データセットをソートしておく\n",
    "dataset.sort_values(['station_id', 'date', 'hour'], inplace=True)\n",
    "# 23時，0時のデータのみ取り出す\n",
    "df_tmp1 = dataset[dataset['hour']  == 23]\n",
    "df_tmp2 = dataset[dataset['hour'] == 0]\n",
    "# それぞれの station，date について前日23時，0時のデータを24時間分リピート\n",
    "df_last23 =  np.repeat(df_tmp1['value'].values, 24, axis=0)\n",
    "df_last0 =  np.repeat(df_tmp2['value'].values, 24, axis=0)\n",
    "# 差分を取る\n",
    "diff = df_last0 - df_last23\n",
    "# 1日分ずらして挿入\n",
    "dataset['value_last23'] = float('nan')\n",
    "dataset.iloc[24:, -1] = df_last23[:-24]\n",
    "dataset['value_diff'] = float('nan')\n",
    "dataset.iloc[24:, -1] = diff[:-24]\n",
    "# 初日は他の station のデータが入っているのでクリア\n",
    "row_indexer = dataset[dataset['date'] == start_date].index\n",
    "dataset.loc[row_indexer, 'value_last23'] = float('nan')\n",
    "dataset.loc[row_indexer, 'value_diff'] = float('nan')"
   ]
  },
  {
   "cell_type": "code",
   "execution_count": 17,
   "metadata": {},
   "outputs": [],
   "source": [
    "# 前日県内で降った雨の総量を追加\n",
    "# 日付が欠損していないのを前提としている\n",
    "groups = dataset.groupby(['date'])\n",
    "df_new = pd.DataFrame()\n",
    "for date, group in groups:\n",
    "    if date > start_date:\n",
    "        sum = rainfall_sum[rainfall_sum['date'] == date - 1]['value'].iat[-1]\n",
    "    else:\n",
    "        sum = float('nan')\n",
    "    group['rainfall_sum'] = sum\n",
    "    df_new = pd.concat([df_new, group])\n",
    "dataset = df_new"
   ]
  },
  {
   "cell_type": "code",
   "execution_count": 18,
   "metadata": {},
   "outputs": [],
   "source": [
    "# 最後にソートしておく\n",
    "dataset.sort_values(['station_id', 'date', 'hour'], inplace=True)\n",
    "# 最後の10日間はテストに使う\n",
    "dataset_train = dataset[dataset['date'] < end_date - 10].copy()"
   ]
  },
  {
   "cell_type": "code",
   "execution_count": 19,
   "metadata": {},
   "outputs": [],
   "source": [
    "# 水位が周期的なデータとそうでないデータに分ける\n",
    "dataset_periodic = dataset_train[dataset_train['station_id'].isin(periodic_list)]\n",
    "dataset_non_periodic = dataset_train[~dataset_train['station_id'].isin(periodic_list)]"
   ]
  },
  {
   "attachments": {},
   "cell_type": "markdown",
   "metadata": {},
   "source": [
    "予測"
   ]
  },
  {
   "cell_type": "code",
   "execution_count": 20,
   "metadata": {},
   "outputs": [],
   "source": [
    "# 特徴量を選定\n",
    "features = ['station_id', 'river_id', 'system_id', 'latitude', 'longitude', 'hour', 'rainfall_sum', 'value_last23']"
   ]
  },
  {
   "cell_type": "code",
   "execution_count": 21,
   "metadata": {},
   "outputs": [],
   "source": [
    "# 単数モデル\n",
    "# X = dataset_train[features]\n",
    "# y = dataset_train['value']\n",
    "# model = LGBMRegressor()\n",
    "# model.fit(X, y)"
   ]
  },
  {
   "cell_type": "code",
   "execution_count": 22,
   "metadata": {},
   "outputs": [
    {
     "data": {
      "text/plain": [
       "LGBMRegressor()"
      ]
     },
     "execution_count": 22,
     "metadata": {},
     "output_type": "execute_result"
    }
   ],
   "source": [
    "# # 周期的な観測所\n",
    "X = dataset_periodic[features]\n",
    "y = dataset_periodic['value']\n",
    "\n",
    "periodic_model = LGBMRegressor()\n",
    "periodic_model.fit(X, y)\n",
    "\n",
    "# ハイパーパラメータチューニング\n",
    "# X_train, X_test, y_train, y_test = train_test_split(X, y, shuffle=False)\n",
    "# dtrain = lgb.Dataset(X_train, y_train)\n",
    "# deval = lgb.Dataset(X_test, y_test, reference=dtrain)\n",
    "\n",
    "# params = {\n",
    "#     'objective': 'regression',\n",
    "#     'metric': 'rmse',\n",
    "#     'verbosity': -1,\n",
    "#     'n_jobs': -1,\n",
    "# }\n",
    "\n",
    "# periodic_model = lgb.train(params, dtrain, valid_sets=[dtrain, deval], verbose_eval=False)"
   ]
  },
  {
   "cell_type": "code",
   "execution_count": 31,
   "metadata": {},
   "outputs": [
    {
     "data": {
      "text/plain": [
       "LGBMRegressor()"
      ]
     },
     "execution_count": 31,
     "metadata": {},
     "output_type": "execute_result"
    }
   ],
   "source": [
    "# 非周期的な観測所\n",
    "X = dataset_non_periodic[features]\n",
    "y = dataset_non_periodic['value']\n",
    "\n",
    "non_periodic_model = LGBMRegressor()\n",
    "non_periodic_model.fit(X, y)\n",
    "\n",
    "# ハイパーパラメータチューニング\n",
    "# X_train, X_test, y_train, y_test = train_test_split(X, y, shuffle=False)\n",
    "# dtrain = lgb.Dataset(X_train, y_train)\n",
    "# deval = lgb.Dataset(X_test, y_test, reference=dtrain)\n",
    "\n",
    "# params = {\n",
    "#     'objective': 'regression',\n",
    "#     'metric': 'rmse',\n",
    "#     'verbosity': -1,\n",
    "#     'n_jobs': -1,\n",
    "# }\n",
    "\n",
    "# non_periodic_model = lgb.train(params, dtrain, valid_sets=[dtrain, deval], verbose_eval=False)"
   ]
  },
  {
   "attachments": {},
   "cell_type": "markdown",
   "metadata": {},
   "source": [
    "検証"
   ]
  },
  {
   "cell_type": "code",
   "execution_count": 32,
   "metadata": {},
   "outputs": [],
   "source": [
    "# 単数モデル\n",
    "# 最後のデータを切り出す\n",
    "# df_true = dataset[dataset['date'] > end_date - 10].copy()\n",
    "# df_pred = df_true.copy()\n",
    "# xtest = df_true[features]\n",
    "# ypred = model.predict(xtest)\n",
    "# df_pred['value'] = ypred"
   ]
  },
  {
   "cell_type": "code",
   "execution_count": 33,
   "metadata": {},
   "outputs": [],
   "source": [
    "# 複数モデル\n",
    "# 最後のデータを切り出す\n",
    "span = 3\n",
    "df_true = dataset[(dataset['date'] > end_date - span)].copy()\n",
    "\n",
    "df_true_periodic = df_true[df_true['station_id'].isin(periodic_list)]\n",
    "df_true_non_periodic = df_true[~df_true['station_id'].isin(periodic_list)]\n",
    "\n",
    "df_pred_periodic = df_true_periodic.copy()\n",
    "df_pred_non_periodic = df_true_non_periodic.copy()\n",
    "\n",
    "# 周期的な観測所\n",
    "xtest = df_true_periodic[features]\n",
    "ypred = periodic_model.predict(xtest)\n",
    "df_pred_periodic['value'] = ypred\n",
    "\n",
    "# 非周期的な観測所\n",
    "xtest = df_true_non_periodic[features]\n",
    "ypred = non_periodic_model.predict(xtest)\n",
    "df_pred_non_periodic['value'] = ypred\n",
    "\n",
    "# 連結\n",
    "df_pred = pd.concat([df_pred_periodic, df_pred_non_periodic])"
   ]
  },
  {
   "cell_type": "code",
   "execution_count": 34,
   "metadata": {},
   "outputs": [],
   "source": [
    "# 描画のためのソート\n",
    "df_true = df_true.sort_values(['station_id', 'date', 'hour']).reset_index(drop=True)\n",
    "df_pred = df_pred.sort_values(['station_id', 'date', 'hour']).reset_index(drop=True)\n",
    "# 横軸の値を揃えるために各 station でインデックスを揃える\n",
    "index = np.repeat([range(24*span)], len(water_stations_eval_list), axis=0).reshape(1, -1)[0]\n",
    "df_true.set_index(index, inplace=True)\n",
    "df_pred.set_index(index, inplace=True)"
   ]
  },
  {
   "cell_type": "code",
   "execution_count": 35,
   "metadata": {},
   "outputs": [
    {
     "data": {
      "text/plain": [
       "[<matplotlib.lines.Line2D at 0x7efcdfcdb790>]"
      ]
     },
     "execution_count": 35,
     "metadata": {},
     "output_type": "execute_result"
    },
    {
     "data": {
      "image/png": "[encoded data removed]",
      "text/plain": [
       "<Figure size 1440x576 with 8 Axes>"
      ]
     },
     "metadata": {
      "needs_background": "light"
     },
     "output_type": "display_data"
    }
   ],
   "source": [
    "# 描画\n",
    "fig, axes = plt.subplots(2, 4, figsize=(20, 8))\n",
    "axes[0, 0].plot(df_pred[df_pred['station_id'] == 0]['value'])\n",
    "axes[0, 0].plot(df_true[df_true['station_id'] == 0]['value'])\n",
    "axes[0, 1].plot(df_pred[df_pred['station_id'] == 1]['value'])\n",
    "axes[0, 1].plot(df_true[df_true['station_id'] == 1]['value'])\n",
    "axes[0, 2].plot(df_pred[df_pred['station_id'] == 2]['value'])\n",
    "axes[0, 2].plot(df_true[df_true['station_id'] == 2]['value'])\n",
    "axes[0, 3].plot(df_pred[df_pred['station_id'] == 3]['value'])\n",
    "axes[0, 3].plot(df_true[df_true['station_id'] == 3]['value'])\n",
    "axes[1, 0].plot(df_pred[df_pred['station_id'] == 4]['value'])\n",
    "axes[1, 0].plot(df_true[df_true['station_id'] == 4]['value'])\n",
    "axes[1, 1].plot(df_pred[df_pred['station_id'] == 5]['value'])\n",
    "axes[1, 1].plot(df_true[df_true['station_id'] == 5]['value'])\n",
    "axes[1, 2].plot(df_pred[df_pred['station_id'] == 6]['value'])\n",
    "axes[1, 2].plot(df_true[df_true['station_id'] == 6]['value'])\n",
    "axes[1, 3].plot(df_pred[df_pred['station_id'] == 7]['value'])\n",
    "axes[1, 3].plot(df_true[df_true['station_id'] == 7]['value'])"
   ]
  },
  {
   "attachments": {},
   "cell_type": "markdown",
   "metadata": {},
   "source": [
    "モデルの保存"
   ]
  },
  {
   "cell_type": "code",
   "execution_count": 36,
   "metadata": {},
   "outputs": [
    {
     "data": {
      "text/plain": [
       "['./submission/model/non_periodic_model.pkl']"
      ]
     },
     "execution_count": 36,
     "metadata": {},
     "output_type": "execute_result"
    }
   ],
   "source": [
    "# 単数モデル\n",
    "# joblib.dump(model, './submission/model/model.pkl', compress=3)\n",
    "\n",
    "# 複数モデル\n",
    "joblib.dump(periodic_model, './submission/model/periodic_model.pkl', compress=3)\n",
    "joblib.dump(non_periodic_model, './submission/model/non_periodic_model.pkl', compress=3)"
   ]
  }
 ],
 "metadata": {
  "kernelspec": {
   "display_name": "base",
   "language": "python",
   "name": "python3"
  },
  "language_info": {
   "codemirror_mode": {
    "name": "ipython",
    "version": 3
   },
   "file_extension": ".py",
   "mimetype": "text/x-python",
   "name": "python",
   "nbconvert_exporter": "python",
   "pygments_lexer": "ipython3",
   "version": "3.9.12 (main, Apr  5 2022, 06:56:58) \n[GCC 7.5.0]"
  },
  "orig_nbformat": 4,
  "vscode": {
   "interpreter": {
    "hash": "d4d1e4263499bec80672ea0156c357c1ee493ec2b1c70f0acce89fc37c4a6abe"
   }
  }
 },
 "nbformat": 4,
 "nbformat_minor": 2
}
